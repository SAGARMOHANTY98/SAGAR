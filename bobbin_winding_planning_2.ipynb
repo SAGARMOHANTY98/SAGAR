{
  "nbformat": 4,
  "nbformat_minor": 0,
  "metadata": {
    "colab": {
      "provenance": [],
      "authorship_tag": "ABX9TyN/VZTDqWyQbMg/ATOX+2sN",
      "include_colab_link": true
    },
    "kernelspec": {
      "name": "python3",
      "display_name": "Python 3"
    },
    "language_info": {
      "name": "python"
    }
  },
  "cells": [
    {
      "cell_type": "markdown",
      "metadata": {
        "id": "view-in-github",
        "colab_type": "text"
      },
      "source": [
        "<a href=\"https://colab.research.google.com/github/SAGARMOHANTY98/SAGAR/blob/main/bobbin_winding_planning_2.ipynb\" target=\"_parent\"><img src=\"https://colab.research.google.com/assets/colab-badge.svg\" alt=\"Open In Colab\"/></a>"
      ]
    },
    {
      "cell_type": "code",
      "execution_count": null,
      "metadata": {
        "colab": {
          "base_uri": "https://localhost:8080/",
          "height": 397
        },
        "id": "EcEFTqssnV8_",
        "outputId": "b7372562-34f3-4ff1-c9e9-00177bdd3716"
      },
      "outputs": [
        {
          "output_type": "error",
          "ename": "ModuleNotFoundError",
          "evalue": "No module named 'fuzzywuzzy'",
          "traceback": [
            "\u001b[0;31m---------------------------------------------------------------------------\u001b[0m",
            "\u001b[0;31mModuleNotFoundError\u001b[0m                       Traceback (most recent call last)",
            "\u001b[0;32m/tmp/ipython-input-1-2269310433.py\u001b[0m in \u001b[0;36m<cell line: 0>\u001b[0;34m()\u001b[0m\n\u001b[1;32m      1\u001b[0m \u001b[0;32mimport\u001b[0m \u001b[0mpandas\u001b[0m \u001b[0;32mas\u001b[0m \u001b[0mpd\u001b[0m\u001b[0;34m\u001b[0m\u001b[0;34m\u001b[0m\u001b[0m\n\u001b[1;32m      2\u001b[0m \u001b[0;32mimport\u001b[0m \u001b[0mmath\u001b[0m\u001b[0;34m\u001b[0m\u001b[0;34m\u001b[0m\u001b[0m\n\u001b[0;32m----> 3\u001b[0;31m \u001b[0;32mfrom\u001b[0m \u001b[0mfuzzywuzzy\u001b[0m \u001b[0;32mimport\u001b[0m \u001b[0mprocess\u001b[0m\u001b[0;34m\u001b[0m\u001b[0;34m\u001b[0m\u001b[0m\n\u001b[0m\u001b[1;32m      4\u001b[0m \u001b[0;34m\u001b[0m\u001b[0m\n\u001b[1;32m      5\u001b[0m \u001b[0;32mdef\u001b[0m \u001b[0mcalculate_bobbin_plan\u001b[0m\u001b[0;34m(\u001b[0m\u001b[0mframe_file\u001b[0m\u001b[0;34m,\u001b[0m \u001b[0mplan_file\u001b[0m\u001b[0;34m)\u001b[0m\u001b[0;34m:\u001b[0m\u001b[0;34m\u001b[0m\u001b[0;34m\u001b[0m\u001b[0m\n",
            "\u001b[0;31mModuleNotFoundError\u001b[0m: No module named 'fuzzywuzzy'",
            "",
            "\u001b[0;31m---------------------------------------------------------------------------\u001b[0;32m\nNOTE: If your import is failing due to a missing package, you can\nmanually install dependencies using either !pip or !apt.\n\nTo view examples of installing some common dependencies, click the\n\"Open Examples\" button below.\n\u001b[0;31m---------------------------------------------------------------------------\u001b[0m\n"
          ],
          "errorDetails": {
            "actions": [
              {
                "action": "open_url",
                "actionText": "Open Examples",
                "url": "/notebooks/snippets/importing_libraries.ipynb"
              }
            ]
          }
        }
      ],
      "source": [
        "import pandas as pd\n",
        "import math\n",
        "from fuzzywuzzy import process\n",
        "\n",
        "def calculate_bobbin_plan(frame_file, plan_file):\n",
        "    try:\n",
        "        # Read input files\n",
        "        df_frame = pd.read_excel('/content/bw plan (1).xlsx')\n",
        "        df_plan = pd.read_excel('/content/material wise planning.xlsx')\n",
        "\n",
        "        # 1. Calculate Frame Requirements using Production Order No.\n",
        "        # Ensure 'Prod. Order No.' is treated as string to avoid potential merge issues\n",
        "        df_frame['Prod. Order No.'] = df_frame['Prod. Order No.'].astype(str)\n",
        "\n",
        "        frame_info = (df_frame.groupby('Prod. Order No.')['Item Type']\n",
        "                      .nunique()\n",
        "                      .reset_index()\n",
        "                      .rename(columns={'Item Type': 'Unique Types'}))\n",
        "        frame_info['Frame Needed'] = frame_info['Unique Types'].apply(lambda x: 2 if x > 1 else 1)\n",
        "\n",
        "        # Count single and double frame items\n",
        "        frame_counts = frame_info['Frame Needed'].value_counts()\n",
        "        single_frame_count = frame_counts.get(1, 0)\n",
        "        double_frame_count = frame_counts.get(2, 0)\n",
        "\n",
        "        # Keep only necessary columns for merging\n",
        "        frame_info_merge = df_frame[['Prod. Order No.', 'Description']].drop_duplicates()\n",
        "        frame_info = pd.merge(frame_info,\n",
        "                              frame_info_merge,\n",
        "                              on='Prod. Order No.',\n",
        "                              how='left') # Use left merge to keep all production orders\n",
        "\n",
        "        # 2. Clean and Match Descriptions\n",
        "        def clean_description(desc):\n",
        "            if not isinstance(desc, str):\n",
        "                return desc\n",
        "            return desc.rsplit('-', 1)[0].strip() if '-' in desc else desc.strip()\n",
        "\n",
        "        df_plan['Clean Description'] = df_plan['Item Description'].apply(clean_description)\n",
        "\n",
        "        # Fuzzy matching with threshold\n",
        "        frame_descriptions = frame_info['Description'].dropna().unique()\n",
        "        def get_matched_description(clean_desc):\n",
        "            if pd.notna(clean_desc) and len(frame_descriptions) > 0:\n",
        "                match = process.extractOne(clean_desc, frame_descriptions, score_cutoff=80)\n",
        "                return match[0] if match else None\n",
        "            return None\n",
        "\n",
        "        df_plan['Matched Description'] = df_plan['Clean Description'].apply(get_matched_description)\n",
        "\n",
        "        # 3. Merge Data\n",
        "        # Ensure the merge key 'Matched Description' and 'Description' exist and are strings\n",
        "        merged = pd.merge(\n",
        "            df_plan,\n",
        "            frame_info[['Prod. Order No.', 'Description', 'Frame Needed']].drop_duplicates(), # Select necessary columns from frame_info\n",
        "            left_on='Matched Description',\n",
        "            right_on='Description',\n",
        "            how='left' # Use left merge to keep all plan items\n",
        "        )\n",
        "\n",
        "        # 4. Calculate Metrics\n",
        "        # Stock\n",
        "        stock_col = next((col for col in ['Total Stock', 'Stock'] if col in merged.columns), None)\n",
        "        merged['Stock'] = pd.to_numeric(merged[stock_col], errors='coerce').fillna(0) if stock_col else 0\n",
        "\n",
        "        # Planned KG\n",
        "        plan_cols = [col for col in [\"Over_Due\", \"Current Week\", \"Column1\", \"Week 2\"] if col in merged.columns]\n",
        "        merged['Planned KG'] = merged[plan_cols].apply(pd.to_numeric, errors='coerce').sum(axis=1).fillna(0)\n",
        "\n",
        "        # Stock Balance and Order Required\n",
        "        merged['Stock Balance'] = merged['Stock'] - merged['Planned KG']\n",
        "        merged['Order Required KG'] = merged['Stock Balance'].apply(lambda x: max(0, -x) if pd.notna(x) else 0)\n",
        "\n",
        "        # 5. Calculate Bobbins Required\n",
        "        def calculate_bobbins(row):\n",
        "            # Use .get() with a default value for 'Frame Needed' to avoid KeyError if merge failed for this row\n",
        "            frame_needed = row.get('Frame Needed')\n",
        "            if pd.isna(frame_needed) or row['Planned KG'] <= 0:\n",
        "                return 0\n",
        "            return math.ceil(row['Planned KG'] / (2600 if frame_needed == 2 else 1300))\n",
        "\n",
        "        merged['Bobbins Required'] = merged.apply(calculate_bobbins, axis=1)\n",
        "\n",
        "        # Return final columns - ensure all output_cols exist in merged\n",
        "        output_cols = [\n",
        "            'Prod. Order No.', 'Item Description', 'Clean Description',\n",
        "            'Frame Needed', 'Planned KG', 'Stock',\n",
        "            'Stock Balance', 'Order Required KG', 'Bobbins Required'\n",
        "        ]\n",
        "        # Filter output_cols to only include columns present in merged\n",
        "        output_cols_present = [col for col in output_cols if col in merged.columns]\n",
        "\n",
        "\n",
        "        # Create summary dictionary\n",
        "        summary = {\n",
        "            'single_frame_items': single_frame_count,\n",
        "            'double_frame_items': double_frame_count,\n",
        "            'total_bobbins': merged['Bobbins Required'].sum(),\n",
        "            'result_df': merged[output_cols_present]\n",
        "        }\n",
        "\n",
        "        return summary\n",
        "\n",
        "    except Exception as e:\n",
        "        print(f\"Error processing files: {str(e)}\")\n",
        "        return {'error': str(e)}\n",
        "\n",
        "# Usage\n",
        "result = calculate_bobbin_plan('bw plan (1).xlsx', 'material wise planning.xlsx')\n",
        "\n",
        "if 'error' not in result:\n",
        "    print(f\"Single Frame Items: {result['single_frame_items']}\")\n",
        "    print(f\"Double Frame Items: {result['double_frame_items']}\")\n",
        "    print(f\"Total Bobbins Required: {result['total_bobbins']}\")\n",
        "\n",
        "    display(result['result_df'])\n",
        "    result['result_df'].to_excel('bobbin_plan_output.xlsx', index=False)\n",
        "else:\n",
        "    print(f\"Error occurred: {result['error']}\")"
      ]
    },
    {
      "cell_type": "code",
      "source": [
        "pip install fuzzywuzzy\n"
      ],
      "metadata": {
        "colab": {
          "base_uri": "https://localhost:8080/"
        },
        "id": "UxfUX71ongaa",
        "outputId": "baedd939-276d-43fc-b78c-d5413121baa5"
      },
      "execution_count": null,
      "outputs": [
        {
          "output_type": "stream",
          "name": "stdout",
          "text": [
            "Requirement already satisfied: fuzzywuzzy in /usr/local/lib/python3.11/dist-packages (0.18.0)\n"
          ]
        }
      ]
    },
    {
      "cell_type": "code",
      "source": [
        "print(result)"
      ],
      "metadata": {
        "id": "4DYzpG1urZIT",
        "outputId": "340c18e0-a138-44d3-eeba-30e9c3518b74",
        "colab": {
          "base_uri": "https://localhost:8080/"
        }
      },
      "execution_count": null,
      "outputs": [
        {
          "output_type": "stream",
          "name": "stdout",
          "text": [
            "{'single_frame_items': np.int64(1), 'double_frame_items': np.int64(735), 'total_bobbins': np.int64(3278), 'result_df':           Prod. Order No.                  Item Description  \\\n",
            "0      WW/ALPRO/25-26/011       WOOL COTTON WHITE-DW-4.20/3   \n",
            "1      WW/ALPRO/25-26/015       WOOL COTTON WHITE-DW-4.20/3   \n",
            "2      WW/ALPRO/25-26/016       WOOL COTTON WHITE-DW-4.20/3   \n",
            "3      WW/ALPRO/25-26/017       WOOL COTTON WHITE-DW-4.20/3   \n",
            "4      WW/SAM/24-25/00274       WOOL COTTON WHITE-DW-4.20/3   \n",
            "...                   ...                               ...   \n",
            "2692  WWPL/PRO/25-26/0018  WOOL 5F- WHITE STRIA -DW- 12/2x3   \n",
            "2693  WWPL/PRO/25-26/0133  WOOL 5F- WHITE STRIA -DW- 12/2x3   \n",
            "2694  WWPL/PRO/25-26/0134  WOOL 5F- WHITE STRIA -DW- 12/2x3   \n",
            "2695  WWPL/PRO/25-26/0589  WOOL 5F- WHITE STRIA -DW- 12/2x3   \n",
            "2696  WWPL/PRO/25-26/0590  WOOL 5F- WHITE STRIA -DW- 12/2x3   \n",
            "\n",
            "             Clean Description  Frame Needed    Planned KG     Stock  \\\n",
            "0         WOOL COTTON WHITE-DW           2.0  10118.637817  25673.27   \n",
            "1         WOOL COTTON WHITE-DW           2.0  10118.637817  25673.27   \n",
            "2         WOOL COTTON WHITE-DW           2.0  10118.637817  25673.27   \n",
            "3         WOOL COTTON WHITE-DW           2.0  10118.637817  25673.27   \n",
            "4         WOOL COTTON WHITE-DW           2.0  10118.637817  25673.27   \n",
            "...                        ...           ...           ...       ...   \n",
            "2692  WOOL 5F- WHITE STRIA -DW           2.0    500.217930   4286.20   \n",
            "2693  WOOL 5F- WHITE STRIA -DW           2.0    500.217930   4286.20   \n",
            "2694  WOOL 5F- WHITE STRIA -DW           2.0    500.217930   4286.20   \n",
            "2695  WOOL 5F- WHITE STRIA -DW           2.0    500.217930   4286.20   \n",
            "2696  WOOL 5F- WHITE STRIA -DW           2.0    500.217930   4286.20   \n",
            "\n",
            "      Stock Balance  Order Required KG  Bobbins Required  \n",
            "0      15554.632183                0.0                 4  \n",
            "1      15554.632183                0.0                 4  \n",
            "2      15554.632183                0.0                 4  \n",
            "3      15554.632183                0.0                 4  \n",
            "4      15554.632183                0.0                 4  \n",
            "...             ...                ...               ...  \n",
            "2692    3785.982070                0.0                 1  \n",
            "2693    3785.982070                0.0                 1  \n",
            "2694    3785.982070                0.0                 1  \n",
            "2695    3785.982070                0.0                 1  \n",
            "2696    3785.982070                0.0                 1  \n",
            "\n",
            "[2697 rows x 9 columns]}\n"
          ]
        }
      ]
    },
    {
      "cell_type": "code",
      "source": [],
      "metadata": {
        "id": "ya5BPAqws453"
      },
      "execution_count": null,
      "outputs": []
    }
  ]
}